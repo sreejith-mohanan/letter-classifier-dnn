{
 "cells": [
  {
   "cell_type": "code",
   "execution_count": 1,
   "metadata": {
    "collapsed": true
   },
   "outputs": [],
   "source": [
    "# importing all the required modules\n",
    "%matplotlib inline\n",
    "\n",
    "import numpy as np\n",
    "import pickle\n",
    "import tensorflow as tf\n",
    "import math\n",
    "from tqdm import tqdm\n",
    "import matplotlib.pyplot as plt"
   ]
  },
  {
   "cell_type": "code",
   "execution_count": 2,
   "metadata": {},
   "outputs": [
    {
     "name": "stdout",
     "output_type": "stream",
     "text": [
      "Data and modules loaded.\n"
     ]
    }
   ],
   "source": [
    "# loading the pickle file which is saved already\n",
    "pickle_file = 'notMNIST.pickle'\n",
    "\n",
    "with open(pickle_file, 'rb') as f:\n",
    "    pickle_data = pickle.load(f)\n",
    "    train_features = pickle_data['train_dataset']\n",
    "    train_labels = pickle_data['train_labels']\n",
    "    valid_features = pickle_data['valid_dataset']\n",
    "    valid_labels = pickle_data['valid_labels']\n",
    "    test_features = pickle_data['test_dataset']\n",
    "    test_labels = pickle_data['test_labels']\n",
    "    del pickle_data\n",
    "    \n",
    "print('Data and modules loaded.')"
   ]
  },
  {
   "cell_type": "code",
   "execution_count": 7,
   "metadata": {},
   "outputs": [],
   "source": [
    "# 28x28 image  = 784 pixels\n",
    "number_input_layers = 784\n",
    "\n",
    "number_hidden_layers = 256\n",
    "\n",
    "# 10 letters in the dataset\n",
    "number_classes = 10\n",
    "\n",
    "\n",
    "\n",
    "# creating the weights, these are the the system tries to find\n",
    "weights = {\n",
    "    'hidden_layer' : tf.Variable(tf.truncated_normal([number_input_layers, number_hidden_layers])),\n",
    "    'output_layer' : tf.Variable(tf.truncated_normal([number_hidden_layers, number_classes]))\n",
    "}\n",
    "biases = {\n",
    "    'hidden_layer' : tf.Variable(tf.zeros(number_hidden_layers)),\n",
    "    'output_layer' : tf.Variable(tf.zeros(number_classes))\n",
    "}\n",
    "\n",
    "\n",
    "#creating the placeholders. Placeholder are the values we can supply on th runtime through feed dict\n",
    "x = tf.placeholder(tf.float32, [None, 784])\n",
    "y = tf.placeholder(tf.float32, [None, number_classes])\n",
    "\n",
    "# x_flat = tf.reshape(x, [-1, number_input_layers])\n",
    "\n",
    "# different feed dicts \n",
    "train_feed_dict = {x: train_features, y: train_labels}\n",
    "valid_feed_dict = {x: valid_features, y: valid_labels}\n",
    "test_feed_dict = {x: test_features, y: test_labels}\n",
    "\n",
    "#hidden layer with RELU activation\n",
    "layer_1 = tf.add(tf.matmul(x, weights['hidden_layer']), biases['hidden_layer'])\n",
    "layer_1 = tf.nn.relu(layer_1)\n",
    "\n",
    "# output layer with linear activation\n",
    "logits = tf.matmul(layer_1, weights['output_layer']) + biases['output_layer']\n",
    "\n",
    "# loss is average cross entropy\n",
    "loss = tf.reduce_mean(tf.nn.softmax_cross_entropy_with_logits(logits=logits, labels=y))\n",
    "\n",
    "# global varialble initializer\n",
    "init = tf.global_variables_initializer()\n"
   ]
  },
  {
   "cell_type": "code",
   "execution_count": 8,
   "metadata": {
    "collapsed": true
   },
   "outputs": [],
   "source": [
    "# maps to get accuracy\n",
    "is_correct_prediction = tf.equal(tf.argmax(logits, 1), tf.argmax(y, 1))\n",
    "accuracy = tf.reduce_mean(tf.cast(is_correct_prediction, tf.float32))"
   ]
  },
  {
   "cell_type": "code",
   "execution_count": 13,
   "metadata": {},
   "outputs": [
    {
     "name": "stderr",
     "output_type": "stream",
     "text": [
      "Epoch  1/2: 100%|██████████| 1425/1425 [01:00<00:00, 23.64batches/s]\n",
      "Epoch  2/2: 100%|██████████| 1425/1425 [00:59<00:00, 23.80batches/s]\n"
     ]
    },
    {
     "data": {
      "image/png": "[encoded data removed]",
      "text/plain": [
       "<matplotlib.figure.Figure at 0x7f2e9d343dd8>"
      ]
     },
     "metadata": {},
     "output_type": "display_data"
    }
   ],
   "source": [
    "# real training\n",
    "\n",
    "epochs = 2\n",
    "batch_size = 100\n",
    "learning_rate = 0.2\n",
    "\n",
    "optimizer = tf.train.GradientDescentOptimizer(learning_rate).minimize(loss)\n",
    "\n",
    "validation_accuracy = 0.0\n",
    "\n",
    "# Measurements use for graphing loss and accuracy with map plot lib\n",
    "log_batch_step = 50\n",
    "batches = []\n",
    "loss_batch = []\n",
    "train_acc_batch = []\n",
    "valid_acc_batch = []\n",
    "\n",
    "# the actual session\n",
    "with tf.Session() as session:\n",
    "    session.run(init)\n",
    "    # we are learning the data in batches of 50 items each. So number of batches will be no by batch size\n",
    "    batch_count = int(math.ceil(len(train_features)/batch_size))\n",
    "    \n",
    "    # looping epoch number of times\n",
    "    for epoch_i in range(epochs):\n",
    "        # Progress bar\n",
    "        batches_pbar = tqdm(range(batch_count), desc='Epoch {:>2}/{}'.format(epoch_i+1, epochs), unit='batches')\n",
    "        \n",
    "        # The training cycle\n",
    "        for batch_i in batches_pbar:\n",
    "            # Get a batch of training features and labels in groups of 50\n",
    "            batch_start = batch_i*batch_size\n",
    "            batch_features = train_features[batch_start:batch_start + batch_size]\n",
    "            batch_labels = train_labels[batch_start:batch_start + batch_size]\n",
    "            \n",
    "            o,l = session.run([optimizer, loss], feed_dict={x:batch_features, y:batch_labels})\n",
    "            \n",
    "            if not batch_i % log_batch_step:\n",
    "                # Calculate Training and Validation accuracy\n",
    "                training_accuracy = session.run(accuracy, feed_dict=train_feed_dict)\n",
    "                validation_accuracy = session.run(accuracy, feed_dict=valid_feed_dict)\n",
    "\n",
    "                # Log batches\n",
    "                previous_batch = batches[-1] if batches else 0\n",
    "                batches.append(log_batch_step + previous_batch)\n",
    "                loss_batch.append(l)\n",
    "                train_acc_batch.append(training_accuracy)\n",
    "                valid_acc_batch.append(validation_accuracy)\n",
    "\n",
    "        # Check accuracy against Validation data\n",
    "        validation_accuracy = session.run(accuracy, feed_dict=valid_feed_dict)\n",
    "        \n",
    "loss_plot = plt.subplot(221)\n",
    "loss_plot.set_title(\"loss\")\n",
    "loss_plot.plot(batches, loss_batch, 'g')\n",
    "loss_plot.set_xlim(batches[0], batches[-1])\n",
    "\n",
    "acc_plot = plt.subplot(212)\n",
    "acc_plot.set_title('accuracy')\n",
    "acc_plot.plot(batches, train_acc_batch, 'r', label='training accuracy')\n",
    "acc_plot.plot(batches, valid_acc_batch, 'x', label='training accuracy')\n",
    "acc_plot.set_ylim([0, 1.0])\n",
    "acc_plot.set_xlim([batches[0], batches[-1]])\n",
    "acc_plot.legend(loc=4)\n",
    "plt.tight_layout()\n",
    "plt.show()"
   ]
  },
  {
   "cell_type": "code",
   "execution_count": 14,
   "metadata": {},
   "outputs": [
    {
     "name": "stdout",
     "output_type": "stream",
     "text": [
      "0.772533\n",
      "0.596026\n"
     ]
    }
   ],
   "source": [
    "print(validation_accuracy)\n",
    "print(loss_batch[-1])"
   ]
  },
  {
   "cell_type": "code",
   "execution_count": null,
   "metadata": {
    "collapsed": true
   },
   "outputs": [],
   "source": []
  }
 ],
 "metadata": {
  "kernelspec": {
   "display_name": "Python [conda env:carnd-term1]",
   "language": "python",
   "name": "conda-env-carnd-term1-py"
  },
  "language_info": {
   "codemirror_mode": {
    "name": "ipython",
    "version": 3
   },
   "file_extension": ".py",
   "mimetype": "text/x-python",
   "name": "python",
   "nbconvert_exporter": "python",
   "pygments_lexer": "ipython3",
   "version": "3.5.2"
  },
  "widgets": {
   "state": {},
   "version": "1.1.2"
  }
 },
 "nbformat": 4,
 "nbformat_minor": 2
}
